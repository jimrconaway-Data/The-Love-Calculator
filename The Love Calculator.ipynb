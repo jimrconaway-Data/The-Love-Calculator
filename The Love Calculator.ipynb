{
 "cells": [
  {
   "cell_type": "code",
   "execution_count": null,
   "metadata": {
    "scrolled": true
   },
   "outputs": [
    {
     "name": "stdout",
     "output_type": "stream",
     "text": [
      "Welcome to the Love Calculator\n"
     ]
    }
   ],
   "source": [
    "#The Love Calculator\n",
    "print(\"Welcome to the Love Calculator\")\n",
    "name1 = input(\"What is your name? \\n\")\n",
    "name2 = input(\"What is their name? \\n\")\n",
    "combine_string = name1 + name2\n",
    "lower_case_combine = combine_string.lower()\n",
    "\n",
    "t = lower_case_combine.count(\"t\")\n",
    "r = lower_case_combine.count(\"r\")\n",
    "u = lower_case_combine.count(\"u\")\n",
    "e = lower_case_combine.count(\"e\")\n",
    "\n",
    "true = t + r + u + e\n",
    "\n",
    "l = lower_case_combine.count(\"l\")\n",
    "o = lower_case_combine.count(\"o\")\n",
    "v = lower_case_combine.count(\"v\")\n",
    "e = lower_case_combine.count(\"e\")\n",
    "\n",
    "love = l + o + v + e\n",
    "\n",
    "#Convert to strings from count function\n",
    "love_score = int(str(true) + str(love))\n",
    "\n",
    "if (love_score < 10) or (love_score > 90):\n",
    "    print(f\"Your love score is {love_score}, you go together live coke and Mentos.\")\n",
    "elif (love_score >= 40) and (love_score <= 50):\n",
    "    print(f\"Your score is {love_score}, you are alright together.\")\n",
    "else: \n",
    "    print(f\"Your score is {love_score}\")\n",
    "\n",
    "\n",
    "\n",
    "\n",
    "\n",
    "\n",
    "\n",
    "\n",
    "\n"
   ]
  },
  {
   "cell_type": "code",
   "execution_count": null,
   "metadata": {},
   "outputs": [],
   "source": []
  },
  {
   "cell_type": "code",
   "execution_count": null,
   "metadata": {},
   "outputs": [],
   "source": []
  }
 ],
 "metadata": {
  "kernelspec": {
   "display_name": "Python 3",
   "language": "python",
   "name": "python3"
  },
  "language_info": {
   "codemirror_mode": {
    "name": "ipython",
    "version": 3
   },
   "file_extension": ".py",
   "mimetype": "text/x-python",
   "name": "python",
   "nbconvert_exporter": "python",
   "pygments_lexer": "ipython3",
   "version": "3.7.6"
  }
 },
 "nbformat": 4,
 "nbformat_minor": 4
}
